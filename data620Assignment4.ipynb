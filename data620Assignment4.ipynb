{
 "cells": [
  {
   "cell_type": "markdown",
   "metadata": {},
   "source": [
    "##  Seventh graders network, part of the Koblenz Network Collection\n",
    "This directed network contains proximity ratings between studetns from 29 seventh grade students from a school in Victoria. Among other questions the students were asked to nominate their preferred classmates for three different activities. A node represents a student. An edge between two nodes shows that the left student picked the right student as his answer. The edge weights are between 1 and 3 and show how often the left student chose the right student as his favourite.  \n",
    "\n",
    "## This directory contains the TSV and related files of the moreno_seventh network: \n",
    "A TSV file is a tab separated values that can be read read using the function read_csv of pandas library by precising the separation as being tab.\n",
    "\n",
    "\n",
    "\n",
    "In addition to identifying your data source, you should create a high level plan that describes how you would load the data for analysis, and describe a hypothetical outcome that could be predicted from comparing degree centrality across categorical groups. \n",
    "\n",
    "\n",
    "## Hypothetical outcome.\n",
    "More influent students in the group.\n",
    "Determine students that can connect eassily with others. Identify students that inspire theirs classmates.\n",
    "Observe how sex influence relationship between classmates. It is interasting to compare distribution of closeness centrality and betwenness centrality.\n"
   ]
  },
  {
   "cell_type": "markdown",
   "metadata": {},
   "source": [
    "### Betweenness centrality \n",
    "Some students sometimes act as bridge between two or more groups.\n",
    "nx.betweenness_centrality(graph)\n",
    "###  Closeness centrality\n",
    "Students that have certain among of followers for their storytelling abilities. \n",
    "nx.closeness_centrality(graph)"
   ]
  },
  {
   "cell_type": "markdown",
   "metadata": {},
   "source": [
    "## Reference\n",
    "[1]\tSeventh graders network dataset -- KONECT, April 2017. [ http ]\n",
    "[2]\tDuncan J. Watts and Steven H. Strogatz. Collective dynamics of `small-world' networks. Nature, 393(1):440--442, 1998."
   ]
  },
  {
   "cell_type": "code",
   "execution_count": null,
   "metadata": {},
   "outputs": [],
   "source": []
  }
 ],
 "metadata": {
  "kernelspec": {
   "display_name": "Python 3",
   "language": "python",
   "name": "python3"
  },
  "language_info": {
   "codemirror_mode": {
    "name": "ipython",
    "version": 3
   },
   "file_extension": ".py",
   "mimetype": "text/x-python",
   "name": "python",
   "nbconvert_exporter": "python",
   "pygments_lexer": "ipython3",
   "version": "3.7.3"
  }
 },
 "nbformat": 4,
 "nbformat_minor": 2
}
