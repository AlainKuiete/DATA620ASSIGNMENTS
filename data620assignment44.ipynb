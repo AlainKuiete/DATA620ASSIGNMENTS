{
 "cells": [
  {
   "cell_type": "code",
   "execution_count": 3,
   "metadata": {},
   "outputs": [],
   "source": [
    "import nltk"
   ]
  },
  {
   "cell_type": "code",
   "execution_count": 4,
   "metadata": {},
   "outputs": [
    {
     "name": "stderr",
     "output_type": "stream",
     "text": [
      "[nltk_data] Downloading package reuters to\n",
      "[nltk_data]     C:\\Users\\ALAIN\\AppData\\Roaming\\nltk_data...\n"
     ]
    },
    {
     "data": {
      "text/plain": [
       "True"
      ]
     },
     "execution_count": 4,
     "metadata": {},
     "output_type": "execute_result"
    }
   ],
   "source": [
    "nltk.download('reuters')"
   ]
  },
  {
   "cell_type": "code",
   "execution_count": 5,
   "metadata": {},
   "outputs": [],
   "source": [
    "from nltk.corpus import reuters"
   ]
  },
  {
   "cell_type": "code",
   "execution_count": 6,
   "metadata": {},
   "outputs": [
    {
     "name": "stdout",
     "output_type": "stream",
     "text": [
      "Reuters has 90 categories:\n",
      "['acq', 'alum', 'barley', 'bop', 'carcass', 'castor-oil', 'cocoa', 'coconut', 'coconut-oil', 'coffee', 'copper', 'copra-cake', 'corn', 'cotton', 'cotton-oil', 'cpi', 'cpu', 'crude', 'dfl', 'dlr', 'dmk', 'earn', 'fuel', 'gas', 'gnp', 'gold', 'grain', 'groundnut', 'groundnut-oil', 'heat', 'hog', 'housing', 'income', 'instal-debt', 'interest', 'ipi', 'iron-steel', 'jet', 'jobs', 'l-cattle', 'lead', 'lei', 'lin-oil', 'livestock', 'lumber', 'meal-feed', 'money-fx', 'money-supply', 'naphtha', 'nat-gas', 'nickel', 'nkr', 'nzdlr', 'oat', 'oilseed', 'orange', 'palladium', 'palm-oil', 'palmkernel', 'pet-chem', 'platinum', 'potato', 'propane', 'rand', 'rape-oil', 'rapeseed', 'reserves', 'retail', 'rice', 'rubber', 'rye', 'ship', 'silver', 'sorghum', 'soy-meal', 'soy-oil', 'soybean', 'strategic-metal', 'sugar', 'sun-meal', 'sun-oil', 'sunseed', 'tea', 'tin', 'trade', 'veg-oil', 'wheat', 'wpi', 'yen', 'zinc']\n"
     ]
    }
   ],
   "source": [
    "cats = reuters.categories()\n",
    "print(\"Reuters has %d categories:\\n%s\" % (len(cats), cats))"
   ]
  },
  {
   "cell_type": "code",
   "execution_count": 7,
   "metadata": {},
   "outputs": [
    {
     "name": "stdout",
     "output_type": "stream",
     "text": [
      "\n",
      "      The Reuters-21578 benchmark corpus, ApteMod version\n",
      "\n",
      "This is a publically available version of the well-known Reuters-21578\n",
      "\"ApteMod\" corpus for text categorization.  It has been used in\n",
      "publications like these:\n",
      "\n",
      " * Yiming Yang and X. Liu. \"A re-examination of text categorization\n",
      "   methods\".  1999.  Proceedings of 22nd Annual International SIGIR.\n",
      "   http://citeseer.nj.nec.com/yang99reexamination.html\n",
      "\n",
      " * Thorsten Joachims. \"Text categorization with support vector\n",
      "   machines: learning with many relevant features\".  1998. Proceedings\n",
      "   of ECML-98, 10th European Conference on Machine Learning.\n",
      "   http://citeseer.nj.nec.com/joachims98text.html\n",
      "\n",
      "ApteMod is a collection of 10,788 documents from the Reuters financial\n",
      "newswire service, partitioned into a training set with 7769 documents\n",
      "and a test set with 3019 documents.  The total size of the corpus is\n",
      "about 43 MB.  It is also available for download from\n",
      "http://kdd.ics.uci.edu/databases/reuters21578/reuters21578.html ,\n",
      "which includes a more extensive history of the data revisions.\n",
      "\n",
      "The distribution of categories in the ApteMod corpus is highly skewed,\n",
      "with 36.7% of the documents in the most common category, and only\n",
      "0.0185% (2 documents) in each of the five least common categories.\n",
      "In fact, the original data source is even more skewed---in creating\n",
      "the corpus, any categories that did not contain at least one document\n",
      "in the training set and one document in the test set were removed from\n",
      "the corpus by its original creator.\n",
      "\n",
      "In the ApteMod corpus, each document belongs to one or more\n",
      "categories.  There are 90 categories in the corpus.  The average\n",
      "number of categories per document is 1.235, and the average number of\n",
      "documents per category is about 148, or 1.37% of the corpus.\n",
      "\n",
      " -Ken Williams\n",
      "  ken@mathforum.org\n",
      "\n",
      "         Copyright & Notification \n",
      "\n",
      "(extracted from the README at the UCI address above)\n",
      "\n",
      "The copyright for the text of newswire articles and Reuters\n",
      "annotations in the Reuters-21578 collection resides with Reuters Ltd.\n",
      "Reuters Ltd. and Carnegie Group, Inc. have agreed to allow the free\n",
      "distribution of this data *for research purposes only*.  \n",
      "\n",
      "If you publish results based on this data set, please acknowledge\n",
      "its use, refer to the data set by the name \"Reuters-21578,\n",
      "Distribution 1.0\", and inform your readers of the current location of\n",
      "the data set (see \"Availability & Questions\").\n",
      "\n",
      "\n"
     ]
    }
   ],
   "source": [
    "print(reuters.readme())"
   ]
  },
  {
   "cell_type": "code",
   "execution_count": 8,
   "metadata": {},
   "outputs": [
    {
     "name": "stdout",
     "output_type": "stream",
     "text": [
      "acq ---- 2661 documents out of 11887\n",
      "alum ---- 62 documents out of 11887\n",
      "barley ---- 58 documents out of 11887\n",
      "bop ---- 120 documents out of 11887\n",
      "carcass ---- 69 documents out of 11887\n",
      "castor-oil ---- 2 documents out of 11887\n",
      "cocoa ---- 81 documents out of 11887\n",
      "coconut ---- 6 documents out of 11887\n",
      "coconut-oil ---- 7 documents out of 11887\n",
      "coffee ---- 141 documents out of 11887\n",
      "copper ---- 73 documents out of 11887\n",
      "copra-cake ---- 3 documents out of 11887\n",
      "corn ---- 270 documents out of 11887\n",
      "cotton ---- 65 documents out of 11887\n",
      "cotton-oil ---- 3 documents out of 11887\n",
      "cpi ---- 108 documents out of 11887\n",
      "cpu ---- 6 documents out of 11887\n",
      "crude ---- 658 documents out of 11887\n",
      "dfl ---- 3 documents out of 11887\n",
      "dlr ---- 223 documents out of 11887\n",
      "dmk ---- 15 documents out of 11887\n",
      "earn ---- 4211 documents out of 11887\n",
      "fuel ---- 23 documents out of 11887\n",
      "gas ---- 65 documents out of 11887\n",
      "gnp ---- 146 documents out of 11887\n",
      "gold ---- 131 documents out of 11887\n",
      "grain ---- 640 documents out of 11887\n",
      "groundnut ---- 9 documents out of 11887\n",
      "groundnut-oil ---- 2 documents out of 11887\n",
      "heat ---- 20 documents out of 11887\n",
      "hog ---- 23 documents out of 11887\n",
      "housing ---- 23 documents out of 11887\n",
      "income ---- 22 documents out of 11887\n",
      "instal-debt ---- 8 documents out of 11887\n",
      "interest ---- 570 documents out of 11887\n",
      "ipi ---- 60 documents out of 11887\n",
      "iron-steel ---- 56 documents out of 11887\n",
      "jet ---- 5 documents out of 11887\n",
      "jobs ---- 73 documents out of 11887\n",
      "l-cattle ---- 8 documents out of 11887\n",
      "lead ---- 30 documents out of 11887\n",
      "lei ---- 19 documents out of 11887\n",
      "lin-oil ---- 2 documents out of 11887\n",
      "livestock ---- 102 documents out of 11887\n",
      "lumber ---- 16 documents out of 11887\n",
      "meal-feed ---- 51 documents out of 11887\n",
      "money-fx ---- 835 documents out of 11887\n",
      "money-supply ---- 230 documents out of 11887\n",
      "naphtha ---- 6 documents out of 11887\n",
      "nat-gas ---- 113 documents out of 11887\n",
      "nickel ---- 10 documents out of 11887\n",
      "nkr ---- 4 documents out of 11887\n",
      "nzdlr ---- 4 documents out of 11887\n",
      "oat ---- 16 documents out of 11887\n",
      "oilseed ---- 185 documents out of 11887\n",
      "orange ---- 32 documents out of 11887\n",
      "palladium ---- 4 documents out of 11887\n",
      "palm-oil ---- 41 documents out of 11887\n",
      "palmkernel ---- 3 documents out of 11887\n",
      "pet-chem ---- 33 documents out of 11887\n",
      "platinum ---- 15 documents out of 11887\n",
      "potato ---- 6 documents out of 11887\n",
      "propane ---- 6 documents out of 11887\n",
      "rand ---- 3 documents out of 11887\n",
      "rape-oil ---- 8 documents out of 11887\n",
      "rapeseed ---- 27 documents out of 11887\n",
      "reserves ---- 83 documents out of 11887\n",
      "retail ---- 29 documents out of 11887\n",
      "rice ---- 64 documents out of 11887\n",
      "rubber ---- 51 documents out of 11887\n",
      "rye ---- 3 documents out of 11887\n",
      "ship ---- 295 documents out of 11887\n",
      "silver ---- 30 documents out of 11887\n",
      "sorghum ---- 37 documents out of 11887\n",
      "soy-meal ---- 28 documents out of 11887\n",
      "soy-oil ---- 26 documents out of 11887\n",
      "soybean ---- 124 documents out of 11887\n",
      "strategic-metal ---- 28 documents out of 11887\n",
      "sugar ---- 170 documents out of 11887\n",
      "sun-meal ---- 2 documents out of 11887\n",
      "sun-oil ---- 7 documents out of 11887\n",
      "sunseed ---- 16 documents out of 11887\n",
      "tea ---- 13 documents out of 11887\n",
      "tin ---- 30 documents out of 11887\n",
      "trade ---- 524 documents out of 11887\n",
      "veg-oil ---- 128 documents out of 11887\n",
      "wheat ---- 304 documents out of 11887\n",
      "wpi ---- 32 documents out of 11887\n",
      "yen ---- 70 documents out of 11887\n",
      "zinc ---- 36 documents out of 11887\n",
      "Articles belong to 1.2333 categories on average\n",
      "There are 132.0778 articles per category on average\n"
     ]
    }
   ],
   "source": [
    "total = len(reuters.paras())\n",
    "total_multi = 0\n",
    "for c in cats:\n",
    "    lc = len(reuters.paras(categories=[c]))\n",
    "    total_multi += lc\n",
    "    print(\"%s ---- %d documents out of %d\" % (c, lc, total))\n",
    "print(\"Articles belong to %.4f categories on average\" % ((total_multi * 1.0) / total))\n",
    "print(\"There are %.4f articles per category on average\" % ((total * 1.0) / len(cats)))"
   ]
  },
  {
   "cell_type": "code",
   "execution_count": 11,
   "metadata": {},
   "outputs": [
    {
     "data": {
      "text/plain": [
       "'string With Punctuation'"
      ]
     },
     "execution_count": 11,
     "metadata": {},
     "output_type": "execute_result"
    }
   ],
   "source": [
    "import re\n",
    "s = \"string, With. Punctuation?\"\n",
    "s = re.sub(r'[^\\w\\s]','',s)\n",
    "s"
   ]
  },
  {
   "cell_type": "code",
   "execution_count": null,
   "metadata": {},
   "outputs": [],
   "source": []
  }
 ],
 "metadata": {
  "kernelspec": {
   "display_name": "Python 3",
   "language": "python",
   "name": "python3"
  },
  "language_info": {
   "codemirror_mode": {
    "name": "ipython",
    "version": 3
   },
   "file_extension": ".py",
   "mimetype": "text/x-python",
   "name": "python",
   "nbconvert_exporter": "python",
   "pygments_lexer": "ipython3",
   "version": "3.7.3"
  }
 },
 "nbformat": 4,
 "nbformat_minor": 2
}
